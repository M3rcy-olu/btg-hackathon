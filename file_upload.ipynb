{
 "cells": [
  {
   "cell_type": "markdown",
   "metadata": {},
   "source": [
    "Note of things to fix: \n",
    "- Address extractor doesn't work if words do not have spaces between them"
   ]
  },
  {
   "cell_type": "code",
   "execution_count": 38,
   "metadata": {},
   "outputs": [],
   "source": [
    "#testing uploading pdf\n",
    "import PyPDF2 \n",
    "import io\n",
    "import pyap\n",
    "\n",
    "def extract_pdf_content(content: bytes) -> str:\n",
    "    try:\n",
    "        pdf_reader = PyPDF2.PdfReader(io.BytesIO(content))\n",
    "        # pdf_reader = PyPDF2.PdfReader(content)\n",
    "        text = \"\"\n",
    "        for i, page in enumerate(pdf_reader.pages):\n",
    "            text += page.extract_text() + \"\\n\"\n",
    "        return text\n",
    "    except Exception as e:\n",
    "        print('error with file')\n",
    "        #adlflafj\n",
    "        raise"
   ]
  },
  {
   "cell_type": "markdown",
   "metadata": {},
   "source": [
    "Testing Reading & Removing Senstiv e info from pdf file"
   ]
  },
  {
   "cell_type": "code",
   "execution_count": null,
   "metadata": {},
   "outputs": [],
   "source": [
    "\n",
    "pdf_file = open(\"../bank_statement_BofA.pdf\", \"rb\")\n",
    "pdf_content= extract_pdf_content(pdf_file.read())\n",
    "\n",
    "#get bank\n",
    "bank= input(\"What is your bank?\")\n",
    "#removing account number(s)\n",
    "num_of_accounts= input(\"How many account numbers do you have?\")\n",
    "all_account_nums=[]\n",
    "for i in num_of_accounts:\n",
    "    if bank==\"Bank of America\":\n",
    "        all_account_nums.append(input(\"What is you account number. Please provide a space between every 4 numbers.\"))\n",
    "    else:\n",
    "        all_account_nums.append(input(\"What is you account number.\"))\n",
    "\n",
    "#remove all of the account numbers\n",
    "print(all_account_nums)\n",
    "for num in all_account_nums:\n",
    "    pdf_content= pdf_content.replace(num, \"\")\n",
    "\n",
    "\n",
    "#removing address from pdf content\n",
    "all_address= str(pyap.parse(pdf_content, country='US'))[1:-1]\n",
    "all_address= all_address.replace(\",\", \"\")\n",
    "for address_icon in all_address.split(\" \"):\n",
    "    pdf_content= pdf_content.replace(address_icon, \"\")\n",
    "\n",
    "# #removing account number(s)\n",
    "# num_of_accounts= input(\"How many account numbers do you have?\")\n",
    "# all_account_nums=[]\n",
    "# for i in num_of_accounts:\n",
    "#     all_account_nums.append(input(\"What is your account number?\"))\n",
    "\n",
    "# for num in all_account_nums:\n",
    "#     all_address= all_address.replace(num, \"\")\n",
    "\n",
    "\n",
    "print(pdf_content)"
   ]
  },
  {
   "cell_type": "markdown",
   "metadata": {},
   "source": [
    "Creating Read & Removing Info as a Function"
   ]
  },
  {
   "cell_type": "code",
   "execution_count": 41,
   "metadata": {},
   "outputs": [],
   "source": [
    "#creating above read & redact code into a function\n",
    "def read_redact_file(file_name, all_account_nums):\n",
    "    pdf_content= extract_pdf_content(pdf_file.read())\n",
    "\n",
    "    #remove all of the account numbers\n",
    "    #print(all_account_nums)\n",
    "    for num in all_account_nums:\n",
    "        pdf_content= pdf_content.replace(num, \"\")\n",
    "\n",
    "    #removing address from pdf content\n",
    "    all_address= str(pyap.parse(pdf_content, country='US'))[1:-1]\n",
    "    # if all_address == \"\":\n",
    "    #     all_address = input(\"Type you address\")\n",
    "    all_address= all_address.replace(\",\", \"\")\n",
    "    for address_icon in all_address.split(\" \"):\n",
    "        pdf_content= pdf_content.replace(address_icon, \"\")\n",
    "    return (all_address, pdf_content)"
   ]
  },
  {
   "cell_type": "code",
   "execution_count": 42,
   "metadata": {},
   "outputs": [],
   "source": [
    "#code for reading all statements in statement folder\n",
    "import os \n",
    "folder = '../statements'\n",
    "files = os.listdir(folder)\n",
    "\n",
    "outputs = []\n",
    "\n",
    "#get bank\n",
    "bank= input(\"What is your bank?\")\n",
    "\n",
    "#removing account number(s)\n",
    "num_of_accounts= int(input(\"How many account numbers do you have?\"))\n",
    "all_account_nums=[]\n",
    "\n",
    "for i in range(num_of_accounts):\n",
    "    if bank==\"Bank of America\":\n",
    "        all_account_nums.append(input(\"What is you account number. Please provide a space between every 4 numbers.\"))\n",
    "    else:\n",
    "        all_account_nums.append(input(\"What is you account number.\"))\n",
    "\n",
    "#goes through each file\n",
    "for statement in files: \n",
    "    pdf_file = open(f'../statements/{statement}', \"rb\")\n",
    "    outputs.append(read_redact_file(pdf_file, all_account_nums))"
   ]
  },
  {
   "cell_type": "code",
   "execution_count": 43,
   "metadata": {},
   "outputs": [
    {
     "data": {
      "text/plain": [
       "[('4820 18th pl se everett WA',\n",
       "  'MercyO.Dada 000000\\n148thPlSE\\nEverett,98208-8812\\nPage1of2StatementPeriod:07/27/2024-08/23/2024 3224495\\nSummaryofDepositAccountActivity\\nAccount#Beginning\\nBalanceWithdrawals/\\nFees* DepositsDividends/\\nInterestEnding\\nBalance\\nMemberAdvantageSavings 3613344881 1,403.60 (239.89) 958.30 2.75 2,124.76\\nMemberAdvantageChecking 3625424853 13.01 (202.48) 239.89 0.04 50.46\\n*IncludingthefollowingFees StatementPeriodTotal 2024Year-to-DateTotal\\nOverdraftFees 0.00 0.00\\nNon-sufficientFunds(NSF)Fees 0.00 0.00\\nDepositAccountActivity\\nMemberAdvantageSavings-3613344881\\nIfyouraccountconvertedtoMemberAdvantageduringthestatementperiod,youearnedtherateeffectivefortheMemberShareSavingsAccountuptothedate\\nofconversion.\\n2.14%AnnualPercentageYieldEarnedfor28dayperiod\\nAverageDailyBalance:$1,690.26\\nYear-to-datedividends:$23.56\\nDeposits\\nDate Amount TransactionDescription\\n08/02/24 231.17 ExternalDepositMASSINST4100075043PP-DIRECTDEP\\n08//24 231.18 ExternalDepositMASSINST4100075043PP-DIRECTDEP\\n08/23/24 495.95 ExternalDepositMASSINST4100075043PP-DIRECTDEP\\n08/23/24 2.75 Dividend/Interest\\nWithdrawals\\nDate Amount TransactionDescription\\n08/04/24 (9.89) OverdraftProtectionWithdraw\\n08/07/24 (5.00) WithdrawalOnlineBankingTransferTo3625424853CK\\n08/14/24 (25.00) WithdrawalOnlineBankingTransferTo3625424853CK\\n08/20/24 (40.00) WithdrawalOnlineBankingTransferTo3625424853CK\\n08/21/24 (10.00) WithdrawalOnlineBankingTransferTo3625424853CK\\n08/22/24 (150.00) WithdrawalOnlineBankingTransferTo3625424853CK\\nStatementPeriod:07/27/2024-08/23/2024 MercyO.Dada\\nPage2of2000000\\nDepositAccountActivity(continued)\\nMemberAdvantageChecking-3625424853\\nIfyouraccountconvertedtoMemberAdvantageduringthestatementperiod,youearnedtherateeffectivefortheCheckingAccountuptothedateofconversion.\\n3.70%AnnualPercentageYieldEarnedfor28dayperiod\\nAverageDailyBalance:$14.35\\nYear-to-datedividends:$1.43\\nDeposits\\nDate Amount TransactionDescription\\n08/04/24 9.89 OverdraftProtectionDeposit\\n08/07/24 5.00 DepositOnlineBankingTransferfrom3613344881SAV\\n08/14/24 25.00 DepositOnlineBankingTransferfrom3613344881SAV\\n08/20/24 40.00 DepositOnlineBankingTransferfrom3613344881SAV\\n08/21/24 10.00 DepositOnlineBankingTransferfrom3613344881SAV\\n08/22/24 150.00 DepositOnlineBankingTransferfrom3613344881SAV\\n08/23/24 0.04 Dividend/Interest\\nWithdrawals\\nDate Amount TransactionDescription\\n08/04/24 (22.90) POSWithdrawalSQ*VISIBLECOFFEECOM15118MainSt.Suite70MillCreekW\\nMachine#1T4J1EQ1Trace#00000000208292031280\\n08/07/24 (4.42) POSWithdrawalSQ*VISIBLECOFFEECOM5714134thPlaceSoutheEverettW\\nMachine#16L4SQUBTrace#000000002311033610\\n08/15/24 (22.06) POSWithdrawalSAFEY#26455802134THPLACESEEVERETTUS\\nMachine#00520052Trace#00000000058240624530\\n08/20/24 (29.28) POSWithdrawal410078HUDSONST1476SEATACUS\\nMachine#41007816Trace#00000000423300782316\\n08/20/24 (18.00) POSWithdrawal410078HUDSONST1476SEATACUS\\nMachine#41007816Trace#00000000423300786555\\n08/22/24 (6.06) POSWithdrawalSAFEY#26455802134THPLACESEEVERETTUS\\nMachine#0505Trace#00000000065012664670\\n08/23/24 (67.31) POSWithdrawalFrgnFeeIncl0.13CorusHotelHydeParkLondonGBGB\\nMachine#T0010136Trace#00000000433879360070\\n08/23/24 (23.60) POSWithdrawalFrgnFeeIncl0.05BENUGOSTJAMESPARKLONDONGBGB\\nMachine#32767303Trace#00000000425000000013\\n08/23/24 (8.85) POSWithdrawalFrgnFeeIncl0.02BENUGOSTJAMESPARKLONDONGBGB\\nMachine#32767304Trace#00000000425000000014\\nComputationofAnnualPercentageYieldEarned(APYE)andInterest/DividendPaid\\nAPYEistheannualizedratecalculationbadontheamountofinterest/dividendarned(notcredited)andtheaveragedailybalanceintheaccountduringthe\\nstatementperiod.Interest/dividendsarecreditedattheendoftheaccount’screditingperiodasreflectedintheactivitycolumnontheperiodicstatement.\\nNegativeInformationReportingNotice;andAddressforDisputingInformationonConsumerReports\\nWemayreportinformationaboutyouraccount(s)tocreditbureaus.Latepayments,misdpayments,orotherdefaultsonyouraccountmaybereflectedinyourcredit\\nreport.\\nIfyouthinkinformationaboutyourBECUaccountinacreditreportorotherconsumerreportiswrong,theneawritetoBECU-CreditReportDisputes,Mailstop\\n1082-2,P.O.Box97050,Seattle98124.Pleaprovideyourfullnameandmailingaddress,theaccountnumberoftheaccountbeingdisputed,thespecific\\ninformationthatyoudispute,thenameofthecreditbureauorotherconsumerreportingagencyfromwhichtheinformationcame,andanysupportingdocumentation\\nthatmightsubstantiateyourdispute.\\n\\n'),\n",
       " ('4820 148th pl se everett wa',\n",
       "  'MercyO.Dada 000000\\nPlSE\\nEverett,WA98208-8812\\nPage1of2StatementPeriod:06/29/2024-07/26/2024 3224495\\nSummaryofDepositAccountActivity\\nAccount#Beginning\\nBalanceWithdrals/\\nFees* DepositsDividends/\\nInterestEnding\\nBalance\\nMemberAdvantageSavings 3613344881 544.69 (86.44) 942.96 2.39 1,403.60\\nMemberAdvantageChecking 3625424853 19.77 (93.25) 86.44 0.05 13.01\\n*IncludingthefollowingFees StatementPeriodTotal 2024Year-to-DateTotal\\nOverdraftFees 0.00 0.00\\nNon-sufficientFunds(NSF)Fees 0.00 0.00\\nDepositAccountActivity\\nMemberAdvantageSavings-3613344881\\nIfyouraccountconvertedtoMemberAdvantageduringthestatementperiod,youearnedtherateeffectivefortheMemberShareSavingsAccountuptothedate\\nofconversion.\\n4.18%AnnualPercentageYieldEarnedfor28dayperiod\\nAverageDailyBalance:$759.10\\nYear-to-datedividends:$20.81\\nDeposits\\nDate Amount TransactionDescription\\n07/12/24 244.78 ExternalDepositMASSINST4100075043PP-DIRECTDEP\\n07/19/24 293.14 ExternalDepositMASSINST4100075043PP-DIRECTDEP\\n07/19/24 135.98 DepositMobileBanking\\n07/26/24 269.06 ExternalDepositMASSINST4100075043PP-DIRECTDEP\\n07/26/24 2.39 Dividend/Interest\\nWithdrals\\nDate Amount TransactionDescription\\n07/07/24 (40.00) WithdralOnlineBankingTransferTo3625424853CK\\n07//24 (10.00) WithdralOnlineBankingTransferTo3625424853CK\\n07/13/24 (6.44) OverdraftProtectionWithdraw\\n07/17/24 (30.00) WithdralOnlineBankingTransferTo3625424853CK\\nStatementPeriod:06/29/2024-07/26/2024 MercyO.Dada\\nPage2of2000000\\nDepositAccountActivity(continued)\\nMemberAdvantageChecking-3625424853\\nIfyouraccountconvertedtoMemberAdvantageduringthestatementperiod,youearnedtherateeffectivefortheCheckingAccountuptothedateofconversion.\\n4.36%AnnualPercentageYieldEarnedfor28dayperiod\\nAverageDailyBalance:$15.24\\nYear-to-datedividends:$1.39\\nDeposits\\nDate Amount TransactionDescription\\n07/07/24 40.00 DepositOnlineBankingTransferfrom3613344881SAV\\n07//24 10.00 DepositOnlineBankingTransferfrom3613344881SAV\\n07/13/24 6.44 OverdraftProtectionDeposit\\n07/17/24 30.00 DepositOnlineBankingTransferfrom3613344881SAV\\n07/26/24 0.05 Dividend/Interest\\nWithdrals\\nDate Amount TransactionDescription\\n07/08/24 (16.03) POSWithdralSAFEWAY#26455802134THPLACESEEVERETTWAUS\\nMachine#00760176Trace#00000000022946842840\\n07//24 (20.38) POSWithdralCOLDSTONECREAMERY#215415MAINSTMILLCREEKW\\nMachine#00000001Trace#000000036000876260\\n07//24 (32.80) POSWithdralTST*KAFENEO-MILLC15130MainStMillCreekW\\nMachine#366Trace#000000002724394020\\n07/13/24 (7.00) POSWithdralLYNNWOODRECREATIONON1910044THAVEWLYNNWOODW\\nMachine#47499301Trace#00000000171957363420\\n07/17/24 (17.04) POSWithdralSTARBUCKSSTORE0884815517MainStreetMILLCREEKWA\\nMachine#0002Trace#00000000202431251750\\nComputationofAnnualPercentageYieldEarned(APYE)andInterest/DividendPaid\\nAPYEistheannualizedratecalculationbadontheamountofinterest/dividendarned(notcredited)andtheaveragedailybalanceintheaccountduringthe\\nstatementperiod.Interest/dividendsarecreditedattheendoftheaccount’screditingperiodasreflectedintheactivitycolumnontheperiodicstatement.\\nNegativeInformationReportingNotice;andAddressforDisputingInformationonConsumerReports\\nWemayreportinformationaboutyouraccount(s)tocreditbureaus.Latepayments,misdpayments,orotherdefaultsonyouraccountmaybereflectedinyourcredit\\nreport.\\nIfyouthinkinformationaboutyourBECUaccountinacreditreportorotherconsumerreportiswrong,theneawritetoBECU-CreditReportDisputes,Mailstop\\n1082-2,P.O.Box97050,SeattleWA98124.Pleaprovideyourfullnameandmailingaddress,theaccountnumberoftheaccountbeingdisputed,thespecific\\ninformationthatyoudispute,thenameofthecreditbureauorotherconsumerreportingagencyfromwhichtheinformationcame,andanysupportingdocumentation\\nthatmightsubstantiateyourdispute.\\n\\n')]"
      ]
     },
     "execution_count": 43,
     "metadata": {},
     "output_type": "execute_result"
    }
   ],
   "source": [
    "outputs"
   ]
  },
  {
   "cell_type": "code",
   "execution_count": 26,
   "metadata": {},
   "outputs": [
    {
     "name": "stdout",
     "output_type": "stream",
     "text": [
      "['hello', 'worldhelphigreenblue']\n"
     ]
    }
   ],
   "source": [
    "string = 'hello worldhelphigreenblue'\n",
    "print(string.split())"
   ]
  }
 ],
 "metadata": {
  "kernelspec": {
   "display_name": "Python 3",
   "language": "python",
   "name": "python3"
  },
  "language_info": {
   "codemirror_mode": {
    "name": "ipython",
    "version": 3
   },
   "file_extension": ".py",
   "mimetype": "text/x-python",
   "name": "python",
   "nbconvert_exporter": "python",
   "pygments_lexer": "ipython3",
   "version": "3.12.4"
  }
 },
 "nbformat": 4,
 "nbformat_minor": 2
}
