{
 "cells": [
  {
   "cell_type": "code",
   "execution_count": 19,
   "metadata": {},
   "outputs": [],
   "source": [
    "#testing uploading pdf\n",
    "import PyPDF2\n",
    "import io\n",
    "import pyap\n",
    "\n",
    "def extract_pdf_content(content: bytes) -> str:\n",
    "    try:\n",
    "        pdf_reader = PyPDF2.PdfReader(io.BytesIO(content))\n",
    "        # pdf_reader = PyPDF2.PdfReader(content)\n",
    "        text = \"\"\n",
    "        for i, page in enumerate(pdf_reader.pages):\n",
    "            text += page.extract_text() + \"\\n\"\n",
    "        return text\n",
    "    except Exception as e:\n",
    "        print('error with file')\n",
    "        #adlflafj\n",
    "        raise"
   ]
  },
  {
   "cell_type": "markdown",
   "metadata": {},
   "source": [
    "Testing Reading & Removing Senstiv e info from pdf file"
   ]
  },
  {
   "cell_type": "code",
   "execution_count": null,
   "metadata": {},
   "outputs": [],
   "source": [
    "\n",
    "pdf_file = open(\"../bank_statement_BofA.pdf\", \"rb\")\n",
    "pdf_content= extract_pdf_content(pdf_file.read())\n",
    "\n",
    "#get bank\n",
    "bank= input(\"What is your bank?\")\n",
    "#removing account number(s)\n",
    "num_of_accounts= input(\"How many account numbers do you have?\")\n",
    "all_account_nums=[]\n",
    "for i in num_of_accounts:\n",
    "    if bank==\"Bank of America\":\n",
    "        all_account_nums.append(input(\"What is you account number. Please provide a space between every 4 numbers.\"))\n",
    "    else:\n",
    "        all_account_nums.append(input(\"What is you account number.\"))\n",
    "\n",
    "#remove all of the account numbers\n",
    "print(all_account_nums)\n",
    "for num in all_account_nums:\n",
    "    pdf_content= pdf_content.replace(num, \"\")\n",
    "\n",
    "\n",
    "#removing address from pdf content\n",
    "all_address= str(pyap.parse(pdf_content, country='US'))[1:-1]\n",
    "all_address= all_address.replace(\",\", \"\")\n",
    "for address_icon in all_address.split(\" \"):\n",
    "    pdf_content= pdf_content.replace(address_icon, \"\")\n",
    "\n",
    "# #removing account number(s)\n",
    "# num_of_accounts= input(\"How many account numbers do you have?\")\n",
    "# all_account_nums=[]\n",
    "# for i in num_of_accounts:\n",
    "#     all_account_nums.append(input(\"What is your account number?\"))\n",
    "\n",
    "# for num in all_account_nums:\n",
    "#     all_address= all_address.replace(num, \"\")\n",
    "\n",
    "\n",
    "print(pdf_content)"
   ]
  },
  {
   "cell_type": "markdown",
   "metadata": {},
   "source": [
    "Creating Read & Removing Info as a Function"
   ]
  },
  {
   "cell_type": "code",
   "execution_count": 20,
   "metadata": {},
   "outputs": [],
   "source": [
    "#creating above read & redact code into a function\n",
    "def read_redact_file(file_name, all_account_nums):\n",
    "    pdf_content= extract_pdf_content(pdf_file.read())\n",
    "\n",
    "    #remove all of the account numbers\n",
    "    #print(all_account_nums)\n",
    "    for num in all_account_nums:\n",
    "        pdf_content= pdf_content.replace(num, \"\")\n",
    "\n",
    "    #removing address from pdf content\n",
    "    all_address= str(pyap.parse(pdf_content, country='US'))[1:-1]\n",
    "    all_address= all_address.replace(\",\", \"\")\n",
    "    for address_icon in all_address.split(\" \"):\n",
    "        pdf_content= pdf_content.replace(address_icon, \"\")\n",
    "    return (all_address, pdf_content)"
   ]
  },
  {
   "cell_type": "code",
   "execution_count": 21,
   "metadata": {},
   "outputs": [],
   "source": [
    "#code for reading all statements in statement folder\n",
    "import os \n",
    "folder = '../statements'\n",
    "files = os.listdir(folder)\n",
    "\n",
    "outputs = []\n",
    "\n",
    "#get bank\n",
    "bank= input(\"What is your bank?\")\n",
    "\n",
    "#removing account number(s)\n",
    "num_of_accounts= input(\"How many account numbers do you have?\")\n",
    "all_account_nums=[]\n",
    "\n",
    "for i in range(num_of_accounts):\n",
    "    if bank==\"Bank of America\":\n",
    "        all_account_nums.append(input(\"What is you account number. Please provide a space between every 4 numbers.\"))\n",
    "    else:\n",
    "        all_account_nums.append(input(\"What is you account number.\"))\n",
    "\n",
    "#goes through each file\n",
    "for statement in files: \n",
    "    pdf_file = open(f'../statements/{statement}', \"rb\")\n",
    "    outputs.append(read_redact_file(pdf_file, all_account_nums))"
   ]
  },
  {
   "cell_type": "code",
   "execution_count": 22,
   "metadata": {},
   "outputs": [
    {
     "data": {
      "text/plain": [
       "[('',\n",
       "  'MercyO.Dada \\n482148thPlSE\\nEverett,WA9828-8812\\nPage1of2StatementPeriod:7/27/224-8/23/224 3224495\\nSummaryofDepositAccountActivity\\nAccount#Beginning\\nBalanceWithdrawals/\\nFees* DepositsDividends/\\nInterestEnding\\nBalance\\nMemberAdvantageSavings 3613344881 1,43.6 (239.89) 958.3 2.75 2,124.76\\nMemberAdvantageChecking 3625424853 13.1 (22.48) 239.89 .4 5.46\\n*IncludingthefollowingFees StatementPeriodTotal 224Year-to-DateTotal\\nOverdraftFees . .\\nNon-sufficientFunds(NSF)Fees . .\\nDepositAccountActivity\\nMemberAdvantageSavings-3613344881\\nIfyouraccountconvertedtoMemberAdvantageduringthestatementperiod,youearnedtherateeffectivefortheMemberShareSavingsAccountuptothedate\\nofconversion.\\n2.14%AnnualPercentageYieldEarnedfor28dayperiod\\nAverageDailyBalance:$1,69.26\\nYear-to-datedividends:$23.56\\nDeposits\\nDate Amount TransactionDescription\\n8/2/24 231.17 ExternalDepositMASSINST417543PP-DIRECTDEP\\n8/9/24 231.18 ExternalDepositMASSINST417543PP-DIRECTDEP\\n8/23/24 495.95 ExternalDepositMASSINST417543PP-DIRECTDEP\\n8/23/24 2.75 Dividend/Interest\\nWithdrawals\\nDate Amount TransactionDescription\\n8/4/24 (9.89) OverdraftProtectionWithdraw\\n8/7/24 (5.) WithdrawalOnlineBankingTransferTo3625424853CK\\n8/14/24 (25.) WithdrawalOnlineBankingTransferTo3625424853CK\\n8/2/24 (4.) WithdrawalOnlineBankingTransferTo3625424853CK\\n8/21/24 (1.) WithdrawalOnlineBankingTransferTo3625424853CK\\n8/22/24 (15.) WithdrawalOnlineBankingTransferTo3625424853CK\\nStatementPeriod:7/27/224-8/23/224 MercyO.Dada\\nPage2of2\\nDepositAccountActivity(continued)\\nMemberAdvantageChecking-3625424853\\nIfyouraccountconvertedtoMemberAdvantageduringthestatementperiod,youearnedtherateeffectivefortheCheckingAccountuptothedateofconversion.\\n3.7%AnnualPercentageYieldEarnedfor28dayperiod\\nAverageDailyBalance:$14.35\\nYear-to-datedividends:$1.43\\nDeposits\\nDate Amount TransactionDescription\\n8/4/24 9.89 OverdraftProtectionDeposit\\n8/7/24 5. DepositOnlineBankingTransferfrom3613344881SAV\\n8/14/24 25. DepositOnlineBankingTransferfrom3613344881SAV\\n8/2/24 4. DepositOnlineBankingTransferfrom3613344881SAV\\n8/21/24 1. DepositOnlineBankingTransferfrom3613344881SAV\\n8/22/24 15. DepositOnlineBankingTransferfrom3613344881SAV\\n8/23/24 .4 Dividend/Interest\\nWithdrawals\\nDate Amount TransactionDescription\\n8/4/24 (22.9) POSWithdrawalSQ*VISIBLECOFFEECOM15118MainSt.Suite7MillCreekW\\nMachine#1T4J1EQ1Trace#282923128\\n8/7/24 (4.42) POSWithdrawalSQ*VISIBLECOFFEECOM5714134thPlaceSoutheEverettW\\nMachine#16L4SQUBTrace#293113361\\n8/15/24 (22.6) POSWithdrawalSAFEWAY#2645582134THPLACESEEVERETTWAUS\\nMachine#5252Trace#582462453\\n8/2/24 (29.28) POSWithdrawal4178HUDSONST1476SEATACWAUS\\nMachine#417816Trace#4233782316\\n8/2/24 (18.) POSWithdrawal4178HUDSONST1476SEATACWAUS\\nMachine#417816Trace#4233786555\\n8/22/24 (6.6) POSWithdrawalSAFEWAY#2645582134THPLACESEEVERETTWAUS\\nMachine#9595Trace#651266467\\n8/23/24 (67.31) POSWithdrawalFrgnFeeIncl.13CorusHotelHydeParkLondonGBGB\\nMachine#T1136Trace#433879367\\n8/23/24 (23.6) POSWithdrawalFrgnFeeIncl.5BENUGOSTJAMESPARKLONDONGBGB\\nMachine#3276733Trace#42513\\n8/23/24 (8.85) POSWithdrawalFrgnFeeIncl.2BENUGOSTJAMESPARKLONDONGBGB\\nMachine#3276734Trace#42514\\nComputationofAnnualPercentageYieldEarned(APYE)andInterest/DividendPaid\\nAPYEistheannualizedratecalculationbasedontheamountofinterest/dividendsearned(notcredited)andtheaveragedailybalanceintheaccountduringthe\\nstatementperiod.Interest/dividendsarecreditedattheendoftheaccount’screditingperiodasreflectedintheactivitycolumnontheperiodicstatement.\\nNegativeInformationReportingNotice;andAddressforDisputingInformationonConsumerReports\\nWemayreportinformationaboutyouraccount(s)tocreditbureaus.Latepayments,missedpayments,orotherdefaultsonyouraccountmaybereflectedinyourcredit\\nreport.\\nIfyouthinkinformationaboutyourBECUaccountinacreditreportorotherconsumerreportiswrong,thenpleasewritetoBECU-CreditReportDisputes,Mailstop\\n182-2,P.O.Box975,SeattleWA98124.Pleaseprovideyourfullnameandmailingaddress,theaccountnumberoftheaccountbeingdisputed,thespecific\\ninformationthatyoudispute,thenameofthecreditbureauorotherconsumerreportingagencyfromwhichtheinformationcame,andanysupportingdocumentation\\nthatmightsubstantiateyourdispute.\\n\\n'),\n",
       " ('',\n",
       "  'MercyO.Dada \\n482148thPlSE\\nEverett,WA9828-8812\\nPage1of2StatementPeriod:6/29/224-7/26/224 3224495\\nSummaryofDepositAccountActivity\\nAccount#Beginning\\nBalanceWithdrawals/\\nFees* DepositsDividends/\\nInterestEnding\\nBalance\\nMemberAdvantageSavings 3613344881 544.69 (86.44) 942.96 2.39 1,43.6\\nMemberAdvantageChecking 3625424853 19.77 (93.25) 86.44 .5 13.1\\n*IncludingthefollowingFees StatementPeriodTotal 224Year-to-DateTotal\\nOverdraftFees . .\\nNon-sufficientFunds(NSF)Fees . .\\nDepositAccountActivity\\nMemberAdvantageSavings-3613344881\\nIfyouraccountconvertedtoMemberAdvantageduringthestatementperiod,youearnedtherateeffectivefortheMemberShareSavingsAccountuptothedate\\nofconversion.\\n4.18%AnnualPercentageYieldEarnedfor28dayperiod\\nAverageDailyBalance:$759.1\\nYear-to-datedividends:$2.81\\nDeposits\\nDate Amount TransactionDescription\\n7/12/24 244.78 ExternalDepositMASSINST417543PP-DIRECTDEP\\n7/19/24 293.14 ExternalDepositMASSINST417543PP-DIRECTDEP\\n7/19/24 135.98 DepositMobileBanking\\n7/26/24 269.6 ExternalDepositMASSINST417543PP-DIRECTDEP\\n7/26/24 2.39 Dividend/Interest\\nWithdrawals\\nDate Amount TransactionDescription\\n7/7/24 (4.) WithdrawalOnlineBankingTransferTo3625424853CK\\n7/9/24 (1.) WithdrawalOnlineBankingTransferTo3625424853CK\\n7/13/24 (6.44) OverdraftProtectionWithdraw\\n7/17/24 (3.) WithdrawalOnlineBankingTransferTo3625424853CK\\nStatementPeriod:6/29/224-7/26/224 MercyO.Dada\\nPage2of2\\nDepositAccountActivity(continued)\\nMemberAdvantageChecking-3625424853\\nIfyouraccountconvertedtoMemberAdvantageduringthestatementperiod,youearnedtherateeffectivefortheCheckingAccountuptothedateofconversion.\\n4.36%AnnualPercentageYieldEarnedfor28dayperiod\\nAverageDailyBalance:$15.24\\nYear-to-datedividends:$1.39\\nDeposits\\nDate Amount TransactionDescription\\n7/7/24 4. DepositOnlineBankingTransferfrom3613344881SAV\\n7/9/24 1. DepositOnlineBankingTransferfrom3613344881SAV\\n7/13/24 6.44 OverdraftProtectionDeposit\\n7/17/24 3. DepositOnlineBankingTransferfrom3613344881SAV\\n7/26/24 .5 Dividend/Interest\\nWithdrawals\\nDate Amount TransactionDescription\\n7/8/24 (16.3) POSWithdrawalSAFEWAY#2645582134THPLACESEEVERETTWAUS\\nMachine#76176Trace#2294684284\\n7/9/24 (2.38) POSWithdrawalCOLDSTONECREAMERY#215415MAINSTMILLCREEKW\\nMachine#1Trace#93687626\\n7/9/24 (32.8) POSWithdrawalTST*KAFENEO-MILLC1513MainStMillCreekW\\nMachine#366Trace#297243942\\n7/13/24 (7.) POSWithdrawalLYNNWOODRECREATIONON19144THAVEWLYNNWOODW\\nMachine#4749931Trace#17195736342\\n7/17/24 (17.4) POSWithdrawalSTARBUCKSSTORE884815517MainStreetMILLCREEKWA\\nMachine#2Trace#2243125175\\nComputationofAnnualPercentageYieldEarned(APYE)andInterest/DividendPaid\\nAPYEistheannualizedratecalculationbasedontheamountofinterest/dividendsearned(notcredited)andtheaveragedailybalanceintheaccountduringthe\\nstatementperiod.Interest/dividendsarecreditedattheendoftheaccount’screditingperiodasreflectedintheactivitycolumnontheperiodicstatement.\\nNegativeInformationReportingNotice;andAddressforDisputingInformationonConsumerReports\\nWemayreportinformationaboutyouraccount(s)tocreditbureaus.Latepayments,missedpayments,orotherdefaultsonyouraccountmaybereflectedinyourcredit\\nreport.\\nIfyouthinkinformationaboutyourBECUaccountinacreditreportorotherconsumerreportiswrong,thenpleasewritetoBECU-CreditReportDisputes,Mailstop\\n182-2,P.O.Box975,SeattleWA98124.Pleaseprovideyourfullnameandmailingaddress,theaccountnumberoftheaccountbeingdisputed,thespecific\\ninformationthatyoudispute,thenameofthecreditbureauorotherconsumerreportingagencyfromwhichtheinformationcame,andanysupportingdocumentation\\nthatmightsubstantiateyourdispute.\\n\\n')]"
      ]
     },
     "execution_count": 22,
     "metadata": {},
     "output_type": "execute_result"
    }
   ],
   "source": [
    "outputs"
   ]
  }
 ],
 "metadata": {
  "kernelspec": {
   "display_name": "Python 3",
   "language": "python",
   "name": "python3"
  },
  "language_info": {
   "codemirror_mode": {
    "name": "ipython",
    "version": 3
   },
   "file_extension": ".py",
   "mimetype": "text/x-python",
   "name": "python",
   "nbconvert_exporter": "python",
   "pygments_lexer": "ipython3",
   "version": "3.12.4"
  }
 },
 "nbformat": 4,
 "nbformat_minor": 2
}
