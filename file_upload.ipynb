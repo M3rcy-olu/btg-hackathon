{
 "cells": [
  {
   "cell_type": "code",
   "execution_count": 11,
   "metadata": {},
   "outputs": [],
   "source": [
    "#testing uploading pdf\n",
    "import PyPDF2\n",
    "import io\n",
    "def extract_pdf_content(content: bytes) -> str:\n",
    "    try:\n",
    "        pdf_reader = PyPDF2.PdfReader(io.BytesIO(content))\n",
    "        # pdf_reader = PyPDF2.PdfReader(content)\n",
    "        text = \"\"\n",
    "        for i, page in enumerate(pdf_reader.pages):\n",
    "            text += page.extract_text() + \"\\n\"\n",
    "        return text\n",
    "    except Exception as e:\n",
    "        print('error with file')\n",
    "        #adlflafj\n",
    "        raise"
   ]
  },
  {
   "cell_type": "code",
   "execution_count": 12,
   "metadata": {},
   "outputs": [
    {
     "name": "stdout",
     "output_type": "stream",
     "text": [
      "MercyO.Dada 000000\n",
      "4820148thPlSE\n",
      "Everett,WA98208-8812\n",
      "Page1of2StatementPeriod:06/29/2024-07/26/2024 3224495\n",
      "SummaryofDepositAccountActivity\n",
      "Account#Beginning\n",
      "BalanceWithdrawals/\n",
      "Fees* DepositsDividends/\n",
      "InterestEnding\n",
      "Balance\n",
      "MemberAdvantageSavings 3613344881 544.69 (86.44) 942.96 2.39 1,403.60\n",
      "MemberAdvantageChecking 3625424853 19.77 (93.25) 86.44 0.05 13.01\n",
      "*IncludingthefollowingFees StatementPeriodTotal 2024Year-to-DateTotal\n",
      "OverdraftFees 0.00 0.00\n",
      "Non-sufficientFunds(NSF)Fees 0.00 0.00\n",
      "DepositAccountActivity\n",
      "MemberAdvantageSavings-3613344881\n",
      "IfyouraccountconvertedtoMemberAdvantageduringthestatementperiod,youearnedtherateeffectivefortheMemberShareSavingsAccountuptothedate\n",
      "ofconversion.\n",
      "4.18%AnnualPercentageYieldEarnedfor28dayperiod\n",
      "AverageDailyBalance:$759.10\n",
      "Year-to-datedividends:$20.81\n",
      "Deposits\n",
      "Date Amount TransactionDescription\n",
      "07/12/24 244.78 ExternalDepositMASSINST4100075043PP-DIRECTDEP\n",
      "07/19/24 293.14 ExternalDepositMASSINST4100075043PP-DIRECTDEP\n",
      "07/19/24 135.98 DepositMobileBanking\n",
      "07/26/24 269.06 ExternalDepositMASSINST4100075043PP-DIRECTDEP\n",
      "07/26/24 2.39 Dividend/Interest\n",
      "Withdrawals\n",
      "Date Amount TransactionDescription\n",
      "07/07/24 (40.00) WithdrawalOnlineBankingTransferTo3625424853CK\n",
      "07/09/24 (10.00) WithdrawalOnlineBankingTransferTo3625424853CK\n",
      "07/13/24 (6.44) OverdraftProtectionWithdraw\n",
      "07/17/24 (30.00) WithdrawalOnlineBankingTransferTo3625424853CK\n",
      "StatementPeriod:06/29/2024-07/26/2024 MercyO.Dada\n",
      "Page2of2000000\n",
      "DepositAccountActivity(continued)\n",
      "MemberAdvantageChecking-3625424853\n",
      "IfyouraccountconvertedtoMemberAdvantageduringthestatementperiod,youearnedtherateeffectivefortheCheckingAccountuptothedateofconversion.\n",
      "4.36%AnnualPercentageYieldEarnedfor28dayperiod\n",
      "AverageDailyBalance:$15.24\n",
      "Year-to-datedividends:$1.39\n",
      "Deposits\n",
      "Date Amount TransactionDescription\n",
      "07/07/24 40.00 DepositOnlineBankingTransferfrom3613344881SAV\n",
      "07/09/24 10.00 DepositOnlineBankingTransferfrom3613344881SAV\n",
      "07/13/24 6.44 OverdraftProtectionDeposit\n",
      "07/17/24 30.00 DepositOnlineBankingTransferfrom3613344881SAV\n",
      "07/26/24 0.05 Dividend/Interest\n",
      "Withdrawals\n",
      "Date Amount TransactionDescription\n",
      "07/08/24 (16.03) POSWithdrawalSAFEWAY#26455802134THPLACESEEVERETTWAUS\n",
      "Machine#00760176Trace#00000000022946842840\n",
      "07/09/24 (20.38) POSWithdrawalCOLDSTONECREAMERY#215415MAINSTMILLCREEKW\n",
      "Machine#00000001Trace#00000000936000876260\n",
      "07/09/24 (32.80) POSWithdrawalTST*KAFENEO-MILLC15130MainStMillCreekW\n",
      "Machine#366Trace#00000000209724394020\n",
      "07/13/24 (7.00) POSWithdrawalLYNNWOODRECREATIONON1910044THAVEWLYNNWOODW\n",
      "Machine#47499301Trace#00000000171957363420\n",
      "07/17/24 (17.04) POSWithdrawalSTARBUCKSSTORE0884815517MainStreetMILLCREEKWA\n",
      "Machine#0002Trace#00000000202431251750\n",
      "ComputationofAnnualPercentageYieldEarned(APYE)andInterest/DividendPaid\n",
      "APYEistheannualizedratecalculationbasedontheamountofinterest/dividendsearned(notcredited)andtheaveragedailybalanceintheaccountduringthe\n",
      "statementperiod.Interest/dividendsarecreditedattheendoftheaccount’screditingperiodasreflectedintheactivitycolumnontheperiodicstatement.\n",
      "NegativeInformationReportingNotice;andAddressforDisputingInformationonConsumerReports\n",
      "Wemayreportinformationaboutyouraccount(s)tocreditbureaus.Latepayments,missedpayments,orotherdefaultsonyouraccountmaybereflectedinyourcredit\n",
      "report.\n",
      "IfyouthinkinformationaboutyourBECUaccountinacreditreportorotherconsumerreportiswrong,thenpleasewritetoBECU-CreditReportDisputes,Mailstop\n",
      "1082-2,P.O.Box97050,SeattleWA98124.Pleaseprovideyourfullnameandmailingaddress,theaccountnumberoftheaccountbeingdisputed,thespecific\n",
      "informationthatyoudispute,thenameofthecreditbureauorotherconsumerreportingagencyfromwhichtheinformationcame,andanysupportingdocumentation\n",
      "thatmightsubstantiateyourdispute.\n",
      "\n",
      "\n"
     ]
    }
   ],
   "source": [
    "pdf_file = open(\"../BECU-Statement-26-Jul-2024.PDF\", \"rb\")\n",
    "\n",
    "print(extract_pdf_content(pdf_file.read()))"
   ]
  },
  {
   "cell_type": "code",
   "execution_count": 20,
   "metadata": {},
   "outputs": [],
   "source": [
    "#Trying to extract locations from text\n",
    "import re \n",
    "import pyap\n",
    "pdf_file = open(\"../BECU-Statement-26-Jul-2024.PDF\", \"rb\")\n",
    "pdf_content = extract_pdf_content(pdf_file.read())\n",
    "# pdf_content_list = pdf_content.split('\\n')\n",
    "\n",
    "# address_regex = r\"([0-9]{1,6})(.{5,75}?)((?:Ala(?:(?:bam|sk)a)|American Samoa|Arizona|Arkansas|(?:^(?!Baja )California)|Colorado|Connecticut|Delaware|District of Columbia|Florida|Georgia|Guam|Hawaii|Idaho|Illinois|Indiana|Iowa|Kansas|Kentucky|Louisiana|Maine|Maryland|Massachusetts|Michigan|Minnesota|Miss(?:(?:issipp|our)i)|Montana|Nebraska|Nevada|New (?:Hampshire|Jersey|Mexico|York)|North (?:(?:Carolin|Dakot)a)|Ohio|Oklahoma|Oregon|Pennsylvania|Puerto Rico|Rhode Island|South (?:(?:Carolin|Dakot)a)|Tennessee|Texas|Utah|Vermont|Virgin(?:ia| Island(s?))|Washington|West Virginia|Wisconsin|Wyoming|A[KLRSZ]|C[AOT]|D[CE]|FL|G[AU]|HI|I[ADLN]|K[SY]|LA|M[ADEINOST]|N[CDEHJMVY]|O[HKR]|P[AR]|RI|S[CD]|T[NX]|UT|V[AIT]|W[AIVY])).{1,2}([0-9]{5})\"\n",
    "# addresses = re.findall(address_regex, pdf_content)\n",
    "\n"
   ]
  },
  {
   "cell_type": "code",
   "execution_count": 21,
   "metadata": {},
   "outputs": [
    {
     "data": {
      "text/plain": [
       "[('07', '/12/24 244.78 ExternalDepositMASS', 'IN', '', '41000'),\n",
       " ('07', '/19/24 293.14 ExternalDepositMASS', 'IN', '', '41000'),\n",
       " ('07', '/26/24 269.06 ExternalDepositMASS', 'IN', '', '41000'),\n",
       " ('07', '/08/24 (16.03) POSWithdrawalSAFE', 'WA', '', '26455'),\n",
       " ('07', '/09/24 (32.80) POSWithdrawalTST*KAFENEO-M', 'IL', '', '15130'),\n",
       " ('07', '/17/24 (17.04) POSWithdrawalSTARBUCKSST', 'OR', '', '88481')]"
      ]
     },
     "execution_count": 21,
     "metadata": {},
     "output_type": "execute_result"
    }
   ],
   "source": [
    "addresses"
   ]
  }
 ],
 "metadata": {
  "kernelspec": {
   "display_name": "Python 3",
   "language": "python",
   "name": "python3"
  },
  "language_info": {
   "codemirror_mode": {
    "name": "ipython",
    "version": 3
   },
   "file_extension": ".py",
   "mimetype": "text/x-python",
   "name": "python",
   "nbconvert_exporter": "python",
   "pygments_lexer": "ipython3",
   "version": "3.12.4"
  }
 },
 "nbformat": 4,
 "nbformat_minor": 2
}
