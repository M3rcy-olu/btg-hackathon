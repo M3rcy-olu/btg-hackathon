{
 "cells": [
  {
   "cell_type": "markdown",
   "metadata": {},
   "source": [
    "Note of things to fix: \n",
    "- Address extractor doesn't work if words do not have spaces between them"
   ]
  },
  {
   "cell_type": "code",
   "execution_count": 8,
   "metadata": {},
   "outputs": [],
   "source": [
    "#testing uploading pdf\n",
    "import PyPDF2\n",
    "import io\n",
    "import pyap\n",
    "\n",
    "def extract_pdf_content(content: bytes) -> str:\n",
    "    try:\n",
    "        pdf_reader = PyPDF2.PdfReader(io.BytesIO(content))\n",
    "        # pdf_reader = PyPDF2.PdfReader(content)\n",
    "        text = \"\"\n",
    "        for i, page in enumerate(pdf_reader.pages):\n",
    "            text += page.extract_text() + \"\\n\"\n",
    "        return text\n",
    "    except Exception as e:\n",
    "        print('error with file')\n",
    "        #adlflafj\n",
    "        raise"
   ]
  },
  {
   "cell_type": "markdown",
   "metadata": {},
   "source": [
    "Testing Reading & Removing Senstiv e info from pdf file"
   ]
  },
  {
   "cell_type": "code",
   "execution_count": 9,
   "metadata": {},
   "outputs": [
    {
     "name": "stdout",
     "output_type": "stream",
     "text": [
      "['1324 2323 1234']\n",
      "Customer service information\n",
      "1.888.888.RWDS (1.888.888.7937)\n",
      "En Español: 1.800.688.6086\n",
      "bankofamerica.com\n",
      "Bank of America, N.A.\n",
      "P.O. Box 25118\n",
      "Tampa, FL 33622-5118YABETSE E GEBREWOLD\n",
      "MARTHA TADESSE CHONCHORO\n",
      "   \n",
      ",   P.O. Box 15284\n",
      "Wilmington, DE 19850\n",
      " PULL: B   CYCLE: 11   SPEC: E   DELIVERY: E   TYPE:    IMAGE: I   BC: \n",
      " Page 1 of 4Your Bank of America Advantage Savings \n",
      "Preferred Rewards Gold\n",
      "for June 15, 2024 to July 18, 2024 Account number: 4460 4914 2758\n",
      "YABETSE E GEBREWOLD     MARTHA TADESSE CHONCHORO     \n",
      "Account summary\n",
      "Beginning balance on June 15, 2024 $21.00\n",
      "Deposits and other additions 60.00\n",
      "ATM and debit card subtractions -0.00\n",
      "Other subtractions -0.00\n",
      "Service fees -0.00\n",
      "Ending balance on July 18, 2024 $81.00\n",
      "\n",
      "YABETSE E GEBREWOLD   !   Account # 4460 4914 2758   !   June 15, 2024 to July 18, 2024\n",
      "Page 2 of 4IMPORTANT INFORMATION:\n",
      "BANK DEPOSIT ACCOUNTS\n",
      "How to Contact Us - You may call us at the telephone number listed on the front of this statement.\n",
      "Updating your contact information  - We encourage you to keep your contact information up-to-date. This includes address,\n",
      "email and phone number. If your information has changed, the easiest way to update it is by visiting the Help & Support tab of\n",
      "Online Banking.\n",
      "Deposit agreement  - When you opened your account, you received a deposit agreement and fee schedule and agreed that your\n",
      "account would be governed by the terms of these documents, as we may amend them from time to time. These documents are\n",
      "part of the contract for your deposit account and govern all transactions relating to your account, including all deposits and\n",
      "withdrawals. Copies of both the deposit agreement and fee schedule which contain the current version of the terms and\n",
      "conditions of your account relationship may be obtained at our financial centers.\n",
      "Electronic transfers: In case of errors or questions about your electronic transfers  - If you think your statement or receipt is\n",
      "wrong or you need more information about an electronic transfer (e.g., ATM transactions, direct deposits or withdrawals,\n",
      "point-of-sale transactions) on the statement or receipt, telephone or write us at the address and number listed on the front of\n",
      "this statement as soon as you can. We must hear from you no later than 60 days after we sent you the FIRST statement on\n",
      "which the error or problem appeared.\n",
      "-Tell us your name and account number.\n",
      "-Describe the error or transfer you are unsure about, and explain as clearly as you can why you believe there is an error\n",
      "or why you need more information.\n",
      "-Tell us the dollar amount of the suspected error.\n",
      "For consumer accounts used primarily for personal, family or household purposes, we will investigate your complaint and will\n",
      "correct any error promptly. If we take more than 10 business days (10 calendar days if you are a Massachusetts customer) (20\n",
      "business days if you are a new customer, for electronic transfers occurring during the first 30 days after the first deposit is\n",
      "made to your account) to do this, we will provisionally credit your account for the amount you think is in error, so that you will\n",
      "have use of the money during the time it will take to complete our investigation.\n",
      "For other accounts, we investigate, and if we find we have made an error, we credit your account at the conclusion of our\n",
      "investigation.\n",
      "Reporting other problems  - You must examine your statement carefully and promptly. You are in the best position to discover\n",
      "errors and unauthorized transactions on your account. If you fail to notify us in writing of suspected problems or an\n",
      "unauthorized transaction within the time period specified in the deposit agreement (which periods are no more than 60 days\n",
      "after we make the statement available to you and in some cases are 30 days or less), we are not liable to you and you agree to\n",
      "not make a claim against us, for the problems or unauthorized transactions.\n",
      "Direct deposits  - If you have arranged to have direct deposits made to your account at least once every 60 days from the same\n",
      "person or company, you may call us to find out if the deposit was made as scheduled. You may also review your activity online\n",
      "or visit a financial center for information.\n",
      " ©2024  Bank of America Corporation\n",
      "\n",
      "YABETSE E GEBREWOLD   !   Account # 4460 4914 2758   !   June 15, 2024 to July 18, 2024 \n",
      "Page 3 of 4Deposits and other additions\n",
      "Date Description Amount\n",
      "07/10/24 Online Banking transfer from CHK 7782 Confirmation# 7962593147 30.00\n",
      "07/12/24 Online Banking transfer from CHK 7782 Confirmation# 7279112531 30.00\n",
      "Total deposits and other additions $60.00\n",
      "Braille and Large Print Request - You can request a copy of this statement in Braille or Large Print by calling 800.432.1000 or going to\n",
      "bankofamerica.com and enter Visually Impaired Access from the home page.\n",
      "\n",
      "This page intentionally left blankYABETSE E GEBREWOLD   !   Account # 4460 4914 2758   !   June 15, 2024 to July 18, 2024\n",
      "Page 4 of 4\n",
      "\n"
     ]
    }
   ],
   "source": [
    "\n",
    "pdf_file = open(\"../statements/bank_statement_BofA.pdf\", \"rb\")\n",
    "pdf_content= extract_pdf_content(pdf_file.read())\n",
    "\n",
    "#get bank\n",
    "bank= input(\"What is your bank?\")\n",
    "#removing account number(s)\n",
    "num_of_accounts= input(\"How many account numbers do you have?\")\n",
    "all_account_nums=[]\n",
    "for i in num_of_accounts:\n",
    "    if bank==\"Bank of America\":\n",
    "        all_account_nums.append(input(\"What is you account number. Please provide a space between every 4 numbers.\"))\n",
    "    else:\n",
    "        all_account_nums.append(input(\"What is you account number.\"))\n",
    "\n",
    "#remove all of the account numbers\n",
    "print(all_account_nums)\n",
    "for num in all_account_nums:\n",
    "    pdf_content= pdf_content.replace(num, \"\")\n",
    "\n",
    "\n",
    "#removing address from pdf content\n",
    "all_address= str(pyap.parse(pdf_content, country='US'))[1:-1]\n",
    "all_address= all_address.replace(\",\", \"\")\n",
    "for address_icon in all_address.split(\" \"):\n",
    "    pdf_content= pdf_content.replace(address_icon, \"\")\n",
    "\n",
    "# #removing account number(s)\n",
    "# num_of_accounts= input(\"How many account numbers do you have?\")\n",
    "# all_account_nums=[]\n",
    "# for i in num_of_accounts:\n",
    "#     all_account_nums.append(input(\"What is your account number?\"))\n",
    "\n",
    "# for num in all_account_nums:\n",
    "#     all_address= all_address.replace(num, \"\")\n",
    "\n",
    "\n",
    "print(pdf_content)"
   ]
  },
  {
   "cell_type": "markdown",
   "metadata": {},
   "source": [
    "Creating Read & Removing Info as a Function"
   ]
  },
  {
   "cell_type": "code",
   "execution_count": 10,
   "metadata": {},
   "outputs": [],
   "source": [
    "#creating above read & redact code into a function\n",
    "def read_redact_file(file_name, all_account_nums):\n",
    "    pdf_content= extract_pdf_content(pdf_file.read())\n",
    "\n",
    "    #remove all of the account numbers\n",
    "    #print(all_account_nums)\n",
    "    for num in all_account_nums:\n",
    "        pdf_content= pdf_content.replace(num, \"\")\n",
    "\n",
    "    #removing address from pdf content\n",
    "    all_address= str(pyap.parse(pdf_content, country='US'))[1:-1]\n",
    "    # if all_address == \"\":\n",
    "    #     all_address = input(\"Type you address\")\n",
    "    all_address= all_address.replace(\",\", \"\")\n",
    "    for address_icon in all_address.split(\" \"):\n",
    "        pdf_content= pdf_content.replace(address_icon, \"\")\n",
    "    return (all_address, pdf_content)"
   ]
  },
  {
   "cell_type": "code",
   "execution_count": 11,
   "metadata": {},
   "outputs": [],
   "source": [
    "#code for reading all statements in statement folder\n",
    "import os\n",
    "folder = '../statements'\n",
    "files = os.listdir(folder)\n",
    "\n",
    "outputs = []\n",
    "\n",
    "#get bank\n",
    "bank= input(\"What is your bank?\")\n",
    "\n",
    "#removing account number(s)\n",
    "num_of_accounts= int(input(\"How many account numbers do you have?\"))\n",
    "all_account_nums=[]\n",
    "\n",
    "for i in range(num_of_accounts):\n",
    "    if bank==\"Bank of America\":\n",
    "        all_account_nums.append(input(\"What is you account number. Please provide a space between every 4 numbers.\"))\n",
    "    else:\n",
    "        all_account_nums.append(input(\"What is you account number.\"))\n",
    "\n",
    "#goes through each file\n",
    "for statement in files:\n",
    "    pdf_file = open(f'../statements/{statement}', \"rb\")\n",
    "    outputs.append(read_redact_file(pdf_file, all_account_nums))"
   ]
  },
  {
   "cell_type": "code",
   "execution_count": 12,
   "metadata": {},
   "outputs": [
    {
     "data": {
      "text/plain": [
       "[('18842 BROKEN OAK RD BOYDS MD 20841-4222',\n",
       "  'Customer service information\\n1.888.888.RWDS (1.888.888.7937)\\nEn Español: 1.800.688.6086\\nbankofamerica.com\\nBank of America, N.A.\\nP.O. Box 25118\\nTampa, FL 33622-5118YABETSE E GEBREWOLD\\nMARTHA TADESSE CHONCHORO\\n   \\n,   P.O. Box 15284\\nWilmington, DE 19850\\n PULL: B   CYCLE: 11   SPEC: E   DELIVERY: E   TYPE:    IMAGE: I   BC: \\n Page 1 of 4Your Bank of America Advantage Savings \\nPreferred Rewards Gold\\nfor June 15, 2024 to July 18, 2024 Account number: 4460 4914 2758\\nYABETSE E GEBREWOLD     MARTHA TADESSE CHONCHORO     \\nAccount summary\\nBeginning balance on June 15, 2024 $21.00\\nDeposits and other additions 60.00\\nATM and debit card subtractions -0.00\\nOther subtractions -0.00\\nService fees -0.00\\nEnding balance on July 18, 2024 $81.00\\n\\nYABETSE E GEBREWOLD   !   Account # 4460 4914 2758   !   June 15, 2024 to July 18, 2024\\nPage 2 of 4IMPORTANT INFORMATION:\\nBANK DEPOSIT ACCOUNTS\\nHow to Contact Us - You may call us at the telephone number listed on the front of this statement.\\nUpdating your contact information  - We encourage you to keep your contact information up-to-date. This includes address,\\nemail and phone number. If your information has changed, the easiest way to update it is by visiting the Help & Support tab of\\nOnline Banking.\\nDeposit agreement  - When you opened your account, you received a deposit agreement and fee schedule and agreed that your\\naccount would be governed by the terms of these documents, as we may amend them from time to time. These documents are\\npart of the contract for your deposit account and govern all transactions relating to your account, including all deposits and\\nwithdrawals. Copies of both the deposit agreement and fee schedule which contain the current version of the terms and\\nconditions of your account relationship may be obtained at our financial centers.\\nElectronic transfers: In case of errors or questions about your electronic transfers  - If you think your statement or receipt is\\nwrong or you need more information about an electronic transfer (e.g., ATM transactions, direct deposits or withdrawals,\\npoint-of-sale transactions) on the statement or receipt, telephone or write us at the address and number listed on the front of\\nthis statement as soon as you can. We must hear from you no later than 60 days after we sent you the FIRST statement on\\nwhich the error or problem appeared.\\n-Tell us your name and account number.\\n-Describe the error or transfer you are unsure about, and explain as clearly as you can why you believe there is an error\\nor why you need more information.\\n-Tell us the dollar amount of the suspected error.\\nFor consumer accounts used primarily for personal, family or household purposes, we will investigate your complaint and will\\ncorrect any error promptly. If we take more than 10 business days (10 calendar days if you are a Massachusetts customer) (20\\nbusiness days if you are a new customer, for electronic transfers occurring during the first 30 days after the first deposit is\\nmade to your account) to do this, we will provisionally credit your account for the amount you think is in error, so that you will\\nhave use of the money during the time it will take to complete our investigation.\\nFor other accounts, we investigate, and if we find we have made an error, we credit your account at the conclusion of our\\ninvestigation.\\nReporting other problems  - You must examine your statement carefully and promptly. You are in the best position to discover\\nerrors and unauthorized transactions on your account. If you fail to notify us in writing of suspected problems or an\\nunauthorized transaction within the time period specified in the deposit agreement (which periods are no more than 60 days\\nafter we make the statement available to you and in some cases are 30 days or less), we are not liable to you and you agree to\\nnot make a claim against us, for the problems or unauthorized transactions.\\nDirect deposits  - If you have arranged to have direct deposits made to your account at least once every 60 days from the same\\nperson or company, you may call us to find out if the deposit was made as scheduled. You may also review your activity online\\nor visit a financial center for information.\\n ©2024  Bank of America Corporation\\n\\nYABETSE E GEBREWOLD   !   Account # 4460 4914 2758   !   June 15, 2024 to July 18, 2024 \\nPage 3 of 4Deposits and other additions\\nDate Description Amount\\n07/10/24 Online Banking transfer from CHK 7782 Confirmation# 7962593147 30.00\\n07/12/24 Online Banking transfer from CHK 7782 Confirmation# 7279112531 30.00\\nTotal deposits and other additions $60.00\\nBraille and Large Print Request - You can request a copy of this statement in Braille or Large Print by calling 800.432.1000 or going to\\nbankofamerica.com and enter Visually Impaired Access from the home page.\\n\\nThis page intentionally left blankYABETSE E GEBREWOLD   !   Account # 4460 4914 2758   !   June 15, 2024 to July 18, 2024\\nPage 4 of 4\\n')]"
      ]
     },
     "execution_count": 12,
     "metadata": {},
     "output_type": "execute_result"
    }
   ],
   "source": [
    "outputs"
   ]
  },
  {
   "cell_type": "code",
   "execution_count": 13,
   "metadata": {},
   "outputs": [
    {
     "name": "stdout",
     "output_type": "stream",
     "text": [
      "['hello', 'worldhelphigreenblue']\n"
     ]
    }
   ],
   "source": [
    "string = 'hello worldhelphigreenblue'\n",
    "print(string.split())"
   ]
  },
  {
   "cell_type": "code",
   "execution_count": 14,
   "metadata": {},
   "outputs": [
    {
     "name": "stdout",
     "output_type": "stream",
     "text": [
      "Based on your recent transactions, I notice that you've had consistent deposits into your account over the past month. Here's a potential savings plan for you:\n",
      "\n",
      "1. **Regular Deposits**: Continue to set aside $30 every 2-3 days using online banking transfers from your other accounts (CHK 7782). This habit will help you build a stable foundation for your savings.\n",
      "2. **Target Savings Goal**: Since you've been consistently depositing $60 per month, consider setting a target savings goal for the next quarter or semester. For example, aim to save an additional $100-200 by the end of September.\n",
      "3. **Automate Your Savings**: To make saving easier and less prone to being neglected, set up automatic transfers from your checking account to your savings account. You can schedule these transfers on a specific date (e.g., every 2nd and 4th Friday) or based on your paycheck schedule.\n",
      "4. **Monitor Progress**: Regularly review your account statements to track your progress and make adjustments as needed. Use the Bank of America mobile app or online banking platform to view your account balance, transaction history, and upcoming transfers.\n",
      "5. **Consider Additional Income Streams**: Think about potential ways to increase your income or reduce expenses. This could involve taking on a side job, selling unwanted items, or negotiating a raise at work.\n",
      "\n",
      "By implementing these strategies, you'll be well on your way to developing a consistent savings habit and achieving your financial goals.\n"
     ]
    }
   ],
   "source": [
    "from langchain_community.llms import Ollama\n",
    "from langchain_core.prompts import ChatPromptTemplate\n",
    "#make one context\n",
    "all_statements=\"\"\n",
    "for statement in outputs:\n",
    "    all_statements+=statement[1]\n",
    "\n",
    "template= \"Use the following pieces of content to anser the question at the end. \\n\\n{context}\\n\\nQuestion: {question}\\nHelpful Answer\"\n",
    "prompt=ChatPromptTemplate.from_template(template)\n",
    "# prompt= ChatPromptTemplate.from_messages([\n",
    "#     (\"system\", \"You are a financial advisor helping people save money\"),\n",
    "#     (\"human\", \"{input}\")\n",
    "# ])\n",
    "\n",
    "llm= Ollama(model= \"llama3\")\n",
    "chain= prompt | llm\n",
    "text = chain.invoke({\"question\": \"Come up with a good savings plan. Based off my recent transactions.\", \"context\":all_statements})\n",
    "print(text)"
   ]
  }
 ],
 "metadata": {
  "kernelspec": {
   "display_name": "Python 3",
   "language": "python",
   "name": "python3"
  },
  "language_info": {
   "codemirror_mode": {
    "name": "ipython",
    "version": 3
   },
   "file_extension": ".py",
   "mimetype": "text/x-python",
   "name": "python",
   "nbconvert_exporter": "python",
   "pygments_lexer": "ipython3",
   "version": "3.12.4"
  }
 },
 "nbformat": 4,
 "nbformat_minor": 2
}
